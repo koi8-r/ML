{
 "cells": [
  {
   "cell_type": "markdown",
   "metadata": {},
   "source": [
    "#### Linear regression tensor-flow F° to C° ####\n",
    "[Источник](https://habr.com/ru/post/453558/)"
   ]
  },
  {
   "cell_type": "code",
   "execution_count": 74,
   "metadata": {},
   "outputs": [
    {
     "data": {
      "text/plain": [
       "[<matplotlib.lines.Line2D at 0x7f035ff692e8>]"
      ]
     },
     "execution_count": 74,
     "metadata": {},
     "output_type": "execute_result"
    },
    {
     "data": {
      "image/png": "[encoded data removed]",
      "text/plain": [
       "<Figure size 432x288 with 1 Axes>"
      ]
     },
     "metadata": {
      "needs_background": "light"
     },
     "output_type": "display_data"
    }
   ],
   "source": [
    "import tensorflow as tf\n",
    "import numpy as np\n",
    "import matplotlib.pyplot as plt\n",
    "\n",
    "\n",
    "c = np.array([-40, -10,  0,  8, 15, 22,  38], dtype=float)\n",
    "f = np.array([-40,  14, 32, 46, 59, 72, 100], dtype=float)\n",
    "\n",
    "\n",
    "a = [ 1.,2.,4.,5.,7.,8.,9. ]\n",
    "b = [ _ / 10. + 1. -50 / 7 for _ in a ]\n",
    "c = np.array([-40, -10,  0,  8, 15, 22,  38], dtype=float)\n",
    "f = np.array([-40,  14, 32, 46, 59, 72, 100], dtype=float)\n",
    "c = np.array(a, dtype=float)\n",
    "f = np.array(b, dtype=float)\n",
    "\n",
    "ly = tf.keras.layers.Dense(units=10, input_shape=[1])\n",
    "model = tf.keras.Sequential([ly,\n",
    "                             tf.keras.layers.Dense(units=80),\n",
    "                             tf.keras.layers.Dense(units=20),\n",
    "                             tf.keras.layers.Dense(units=1)])\n",
    "model.compile(loss='mean_squared_error', optimizer=tf.keras.optimizers.Adam(0.001))  # MSE\n",
    "hist = model.fit(c, f, epochs=1500, verbose=False)\n",
    "\n",
    "\n",
    "plt.xlabel('Epoch number')\n",
    "plt.ylabel(\"Loss Magnitude\")\n",
    "plt.plot(hist.history['loss'])\n"
   ]
  },
  {
   "cell_type": "code",
   "execution_count": 80,
   "metadata": {},
   "outputs": [
    {
     "data": {
      "text/plain": [
       "9906.857142857143"
      ]
     },
     "execution_count": 80,
     "metadata": {},
     "output_type": "execute_result"
    }
   ],
   "source": [
    " 99130 / 10. + 1. -50 / 7"
   ]
  },
  {
   "cell_type": "code",
   "execution_count": 81,
   "metadata": {},
   "outputs": [
    {
     "data": {
      "text/plain": [
       "array([[9906.843]], dtype=float32)"
      ]
     },
     "execution_count": 81,
     "metadata": {},
     "output_type": "execute_result"
    }
   ],
   "source": [
    "model.predict([99130])"
   ]
  }
 ],
 "metadata": {
  "kernelspec": {
   "display_name": "Python 3",
   "language": "python",
   "name": "python3"
  },
  "language_info": {
   "codemirror_mode": {
    "name": "ipython",
    "version": 3
   },
   "file_extension": ".py",
   "mimetype": "text/x-python",
   "name": "python",
   "nbconvert_exporter": "python",
   "pygments_lexer": "ipython3",
   "version": "3.7.3"
  }
 },
 "nbformat": 4,
 "nbformat_minor": 2
}
