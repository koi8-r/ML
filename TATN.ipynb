{
 "cells": [
  {
   "cell_type": "code",
   "execution_count": null,
   "metadata": {},
   "outputs": [],
   "source": [
    "from datetime import datetime as dt\n",
    "from aiohttp import ClientSession as UA, TCPConnector\n",
    "from datetime import datetime as dt, timedelta as td\n",
    "from finam_csv_loader import download_tick_verbose\n",
    "from asyncio import sleep\n",
    "import pandas as pd\n",
    "import io\n",
    "\n",
    "\n",
    "ticker_code, ticker_id = 'TATN', 825\n",
    "\n",
    "ua = UA(connector=TCPConnector(limit=5))\n",
    "cols = [ 'time','last','vol', 'oper' ]\n",
    "df = None  # pd.DataFrame([], columns=cols)\n",
    "d = dt.now().date()\n",
    "start = dt(2019, 7, 1).date()\n",
    "end = dt(2019, 8, 1).date()\n",
    "diff = 0\n",
    "\n",
    "while True:\n",
    "    d = start + td(days=diff)\n",
    "    if not d < end:\n",
    "        break\n",
    "    else:\n",
    "        print(d)\n",
    "        diff += 1\n",
    "\n",
    "    file = await download_tick_verbose(ua, ticker_id, ticker_code, d)\n",
    "    _df = pd.read_csv(io.StringIO(file),\n",
    "                      header=0, sep=';', decimal='.', encoding='cp1251',\n",
    "                      usecols=[1,2,3,5],\n",
    "                      names=cols,)\n",
    "\n",
    "    _df['time'] = _df['time'].apply(lambda t: f\"{str(d)} {t}\")\n",
    "    _df['time'] = pd.to_datetime(_df['time'], format='%Y-%m-%d %H:%M:%S')\n",
    "\n",
    "    if df is None:\n",
    "        df = _df.copy()\n",
    "    else:\n",
    "        df = df.append(_df, ignore_index=True)\n",
    "\n",
    "    await sleep(1.)\n",
    "\n",
    "await ua.close()\n",
    "\n",
    "df['vol'] = df['vol'].astype(float)\n",
    "df['oper'] = df['oper'].map({'B': 1, 'S': -1})\n",
    "\n",
    "df.info()"
   ]
  },
  {
   "cell_type": "code",
   "execution_count": 33,
   "metadata": {},
   "outputs": [],
   "source": [
    "import pandas as pd\n",
    "\n",
    "\n",
    "store = pd.HDFStore('finam.h5', complevel=6)\n",
    "# store['stock/TATN'] = df\n",
    "df = store['stock/TATN']\n",
    "df.head()\n",
    "store.close()"
   ]
  },
  {
   "cell_type": "code",
   "execution_count": 43,
   "metadata": {},
   "outputs": [
    {
     "name": "stdout",
     "output_type": "stream",
     "text": [
      "37733590.0\n",
      "716.1\n",
      "784.3\n"
     ]
    },
    {
     "data": {
      "text/plain": [
       "15.449882037519371"
      ]
     },
     "execution_count": 43,
     "metadata": {},
     "output_type": "execute_result"
    }
   ],
   "source": [
    "print(df.vol.sum())\n",
    "print(df['last'].min())\n",
    "print(df['last'].max())\n",
    "df['last'].std()"
   ]
  }
 ],
 "metadata": {
  "kernelspec": {
   "display_name": "Python 3",
   "language": "python",
   "name": "python3"
  },
  "language_info": {
   "codemirror_mode": {
    "name": "ipython",
    "version": 3
   },
   "file_extension": ".py",
   "mimetype": "text/x-python",
   "name": "python",
   "nbconvert_exporter": "python",
   "pygments_lexer": "ipython3",
   "version": "3.7.3"
  }
 },
 "nbformat": 4,
 "nbformat_minor": 4
}
