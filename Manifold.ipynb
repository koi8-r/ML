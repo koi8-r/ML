{
 "cells": [
  {
   "cell_type": "code",
   "execution_count": 54,
   "metadata": {},
   "outputs": [
    {
     "data": {
      "image/png": "[encoded data removed]",
      "text/plain": [
       "<Figure size 720x432 with 1 Axes>"
      ]
     },
     "metadata": {
      "needs_background": "light"
     },
     "output_type": "display_data"
    }
   ],
   "source": [
    "from sklearn.manifold import Isomap\n",
    "from sklearn.preprocessing import LabelEncoder, StandardScaler, MinMaxScaler\n",
    "import numpy as np\n",
    "import matplotlib.pylab as plt\n",
    "\n",
    "\n",
    "sex = np.array(['female', 'female', 'female', 'female', 'male', 'male', 'male'])\n",
    "age = np.array([38,18,16,22,38,65,18]).astype(np.float64)\n",
    "n = age * 0\n",
    "\n",
    "label_enc = LabelEncoder()\n",
    "label_enc.fit(sex)\n",
    "\n",
    "sex = label_enc.fit_transform(sex)\n",
    "age = MinMaxScaler().fit_transform(age.reshape(-1,1)).reshape(1,-1)[0]\n",
    "\n",
    "X = np.column_stack([sex, age, n])\n",
    "\n",
    "\n",
    "\n",
    "mf = Isomap(n_components=2)\n",
    "X = mf.fit_transform(X)\n",
    "\n",
    "plt.figure(figsize=(10, 6))\n",
    "plt.scatter(X[:, 0], X[:, 1], c=X[:, 0])\n",
    "plt.show()\n"
   ]
  },
  {
   "cell_type": "code",
   "execution_count": null,
   "metadata": {},
   "outputs": [],
   "source": []
  }
 ],
 "metadata": {
  "kernelspec": {
   "display_name": "Python 3",
   "language": "python",
   "name": "python3"
  },
  "language_info": {
   "codemirror_mode": {
    "name": "ipython",
    "version": 3
   },
   "file_extension": ".py",
   "mimetype": "text/x-python",
   "name": "python",
   "nbconvert_exporter": "python",
   "pygments_lexer": "ipython3",
   "version": "3.7.3"
  }
 },
 "nbformat": 4,
 "nbformat_minor": 4
}
