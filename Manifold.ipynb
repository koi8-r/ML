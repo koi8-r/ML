{
 "cells": [
  {
   "cell_type": "code",
   "execution_count": 87,
   "metadata": {},
   "outputs": [
    {
     "data": {
      "text/plain": [
       "array(['a', '1'], dtype='<U1')"
      ]
     },
     "execution_count": 87,
     "metadata": {},
     "output_type": "execute_result"
    }
   ],
   "source": [
    "from sklearn.manifold import MDS\n",
    "from sklearn.preprocessing import LabelEncoder, StandardScaler\n",
    "import numpy as np\n",
    "import matplotlib.pylab as plt\n",
    "\n",
    "\n",
    "X = np.asarray([['female', 38], ['female', 18], ['female', 16], ['female', 22], ['male', 38], ['male', 65], ['male', 18]])\n",
    "\n",
    "#label_enc = LabelEncoder()\n",
    "#label_enc.fit(X[:, 0])\n",
    "#X[:, 0] = label_enc.fit_transform(X[:, 0])\n",
    "\n",
    "#mds = MDS(n_components=2)\n",
    "#X = mds.fit_transform(X)\n",
    "\n",
    "#plt.figure(figsize=(10, 6))\n",
    "\n",
    "#plt.scatter(X[:, 0], X[:, 1], c=X[:, 0])\n",
    "#plt.show()\n",
    "\n"
   ]
  },
  {
   "cell_type": "code",
   "execution_count": null,
   "metadata": {},
   "outputs": [],
   "source": []
  }
 ],
 "metadata": {
  "kernelspec": {
   "display_name": "Python 3",
   "language": "python",
   "name": "python3"
  },
  "language_info": {
   "codemirror_mode": {
    "name": "ipython",
    "version": 3
   },
   "file_extension": ".py",
   "mimetype": "text/x-python",
   "name": "python",
   "nbconvert_exporter": "python",
   "pygments_lexer": "ipython3",
   "version": "3.7.3"
  }
 },
 "nbformat": 4,
 "nbformat_minor": 4
}
