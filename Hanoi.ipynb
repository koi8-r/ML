{
 "cells": [
  {
   "cell_type": "markdown",
   "metadata": {},
   "source": [
    "[Вопросы из Яндекса](https://medium.com/@olgakozlova/%D0%B2%D0%BE%D0%BF%D1%80%D0%BE%D1%81%D1%8B-%D0%B8%D0%B7-%D1%8F%D0%BD%D0%B4%D0%B5%D0%BA%D1%81%D0%B0-895261c94e16)"
   ]
  },
  {
   "cell_type": "code",
   "execution_count": 3,
   "metadata": {},
   "outputs": [
    {
     "name": "stdout",
     "output_type": "stream",
     "text": [
      "x -> y\n",
      "x -> z\n",
      "y -> z\n"
     ]
    }
   ],
   "source": [
    "c = 0\n",
    "\n",
    "def hanoi(n, f, a, t):\n",
    "    \"\"\"\n",
    "    Ханойские башни - рекурсия\n",
    "\n",
    "    n - num of disk\n",
    "    f - from rod\n",
    "    a - aux rod\n",
    "    t - to rod\n",
    "    \"\"\"\n",
    "    if n == 1:\n",
    "        global c\n",
    "        c += 1\n",
    "        print(f\"{f} -> {t}\")\n",
    "    else:\n",
    "        hanoi(n-1, f,t, a)  # x -> y\n",
    "        hanoi(1, f, a, t)   # x -> z\n",
    "        hanoi(n-1, a, f,t)  # y -> z\n",
    "\n",
    "n = 2\n",
    "hanoi(n, *'xyz')\n",
    "assert c == 2**n-1"
   ]
  },
  {
   "cell_type": "code",
   "execution_count": 15,
   "metadata": {},
   "outputs": [],
   "source": [
    "def _sum(n):\n",
    "    \"\"\"Написать функцию sum чтобы выражение sum(1)(2)(5)(10) возвращало 17\"\"\"\n",
    "    class _int(int):\n",
    "        def __call__(self, o):\n",
    "            return _int(self + o)\n",
    "\n",
    "    return _int(n-1)\n",
    "\n",
    "assert 17 == _sum(1)(2)(5)(10)"
   ]
  },
  {
   "cell_type": "code",
   "execution_count": null,
   "metadata": {},
   "outputs": [],
   "source": [
    "def check(b):\n",
    "    \"\"\"Написать функцию, проверяющую правильно расставленные скобки\"\"\"\n",
    "    stack = []\n",
    "    for right in b:\n",
    "        if right in ('{', '['):\n",
    "            stack.append(right)\n",
    "            continue\n",
    "\n",
    "        try:\n",
    "            left = stack.pop()\n",
    "            if left == '{':\n",
    "                assert right == '}'\n",
    "            elif left == '[':\n",
    "                assert right == ']'\n",
    "            else:\n",
    "                assert False\n",
    "        except:\n",
    "            return False\n",
    "    \n",
    "    return True\n",
    "\n",
    "check('[{[]}]')"
   ]
  },
  {
   "cell_type": "code",
   "execution_count": null,
   "metadata": {},
   "outputs": [],
   "source": [
    "from collections import defaultdict\n",
    "\n",
    "def getAnagrams(*corpus):\n",
    "    ret = []\n",
    "    for w in corpus:\n",
    "        \n",
    "\n",
    "assert [ [\"нос\", \"сон\"], [\"днесь\", \"снедь\"] ] == getAnagrams('нос', 'сон', 'снедь', 'днесь')"
   ]
  },
  {
   "cell_type": "code",
   "execution_count": 15,
   "metadata": {},
   "outputs": [
    {
     "data": {
      "text/plain": [
       "'Node(1, left=Node(2, left=Node(4, left=None, right=None), right=None), right=Node(3, left=None, right=None))'"
      ]
     },
     "execution_count": 15,
     "metadata": {},
     "output_type": "execute_result"
    }
   ],
   "source": [
    "class Node(object):\n",
    "    def __init__(self, value, left=None, right=None):\n",
    "        self.value = value\n",
    "        self.left = left\n",
    "        self.right = right\n",
    "    \n",
    "    def __str__(self):\n",
    "        return f\"Node({self.value}, left={self.left}, right={self.right})\"\n",
    "\n",
    "root = Node(1, left=Node(2, left=Node(4)), right=Node(3))\n",
    "\n",
    "def mirror(node: Node) -> Node:\n",
    "    if node:\n",
    "        node.left, node.right = invert(node.right), invert(node.left)\n",
    "    return node\n",
    "\n",
    "mirror(mirror(root))\n",
    "str(root)"
   ]
  }
 ],
 "metadata": {
  "kernelspec": {
   "display_name": "Python 3",
   "language": "python",
   "name": "python3"
  },
  "language_info": {
   "codemirror_mode": {
    "name": "ipython",
    "version": 3
   },
   "file_extension": ".py",
   "mimetype": "text/x-python",
   "name": "python",
   "nbconvert_exporter": "python",
   "pygments_lexer": "ipython3",
   "version": "3.7.3"
  }
 },
 "nbformat": 4,
 "nbformat_minor": 2
}
